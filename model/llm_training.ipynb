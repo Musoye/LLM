{
  "nbformat": 4,
  "nbformat_minor": 0,
  "metadata": {
    "colab": {
      "provenance": []
    },
    "kernelspec": {
      "name": "python3",
      "display_name": "Python 3"
    },
    "language_info": {
      "name": "python"
    }
  },
  "cells": [
    {
      "cell_type": "code",
      "execution_count": 28,
      "metadata": {
        "colab": {
          "base_uri": "https://localhost:8080/"
        },
        "id": "iVNh8w1KWV9m",
        "outputId": "da8aba2e-062d-4188-d7b7-05ccf52b3b87"
      },
      "outputs": [
        {
          "output_type": "stream",
          "name": "stdout",
          "text": [
            "Cloning into 'LLM'...\n",
            "remote: Enumerating objects: 66, done.\u001b[K\n",
            "remote: Counting objects: 100% (66/66), done.\u001b[K\n",
            "remote: Compressing objects: 100% (48/48), done.\u001b[K\n",
            "remote: Total 66 (delta 16), reused 63 (delta 13), pack-reused 0 (from 0)\u001b[K\n",
            "Receiving objects: 100% (66/66), 32.45 KiB | 8.11 MiB/s, done.\n",
            "Resolving deltas: 100% (16/16), done.\n"
          ]
        }
      ],
      "source": [
        "!git clone https://github.com/Musoye/LLM"
      ]
    },
    {
      "cell_type": "code",
      "source": [
        "%cd LLM"
      ],
      "metadata": {
        "colab": {
          "base_uri": "https://localhost:8080/"
        },
        "id": "TGgKUC_tWadx",
        "outputId": "0fd67eb8-7524-492f-8fdf-8adb19af17c6"
      },
      "execution_count": 29,
      "outputs": [
        {
          "output_type": "stream",
          "name": "stdout",
          "text": [
            "/content/LLM/LLM/LLM\n"
          ]
        }
      ]
    },
    {
      "cell_type": "code",
      "source": [
        "!ls"
      ],
      "metadata": {
        "colab": {
          "base_uri": "https://localhost:8080/"
        },
        "id": "gREjHkoZWk2N",
        "outputId": "b169069e-8d77-41e2-ada9-2c6a7c5a5b18"
      },
      "execution_count": 30,
      "outputs": [
        {
          "output_type": "stream",
          "name": "stdout",
          "text": [
            "attentions  datasets  model  README.md\ttokenizer  train  verdict.txt\n"
          ]
        }
      ]
    },
    {
      "cell_type": "code",
      "source": [
        "!pip3 install tiktoken"
      ],
      "metadata": {
        "colab": {
          "base_uri": "https://localhost:8080/"
        },
        "id": "_msbGhnTW_fK",
        "outputId": "a7afa1f0-e3bc-4be1-ff7f-44bef295e266"
      },
      "execution_count": 31,
      "outputs": [
        {
          "output_type": "stream",
          "name": "stdout",
          "text": [
            "Requirement already satisfied: tiktoken in /usr/local/lib/python3.10/dist-packages (0.8.0)\n",
            "Requirement already satisfied: regex>=2022.1.18 in /usr/local/lib/python3.10/dist-packages (from tiktoken) (2024.11.6)\n",
            "Requirement already satisfied: requests>=2.26.0 in /usr/local/lib/python3.10/dist-packages (from tiktoken) (2.32.3)\n",
            "Requirement already satisfied: charset-normalizer<4,>=2 in /usr/local/lib/python3.10/dist-packages (from requests>=2.26.0->tiktoken) (3.4.0)\n",
            "Requirement already satisfied: idna<4,>=2.5 in /usr/local/lib/python3.10/dist-packages (from requests>=2.26.0->tiktoken) (3.10)\n",
            "Requirement already satisfied: urllib3<3,>=1.21.1 in /usr/local/lib/python3.10/dist-packages (from requests>=2.26.0->tiktoken) (2.2.3)\n",
            "Requirement already satisfied: certifi>=2017.4.17 in /usr/local/lib/python3.10/dist-packages (from requests>=2.26.0->tiktoken) (2024.12.14)\n"
          ]
        }
      ]
    },
    {
      "cell_type": "code",
      "source": [
        "!python3 -m train.train"
      ],
      "metadata": {
        "colab": {
          "base_uri": "https://localhost:8080/"
        },
        "id": "ZvMJwi8KXSGw",
        "outputId": "c39c9c1e-33e7-4357-e142-945c4aa69280"
      },
      "execution_count": 32,
      "outputs": [
        {
          "output_type": "stream",
          "name": "stdout",
          "text": [
            "Characters: 20479\n",
            "Tokens: 5145\n",
            "Ep 1 (Step 000000): Train loss 10.616, Val loss 10.702\n",
            "Ep 1 (Step 000005): Train loss 8.424, Val loss 8.559\n",
            "Ep 2 (Step 000010): Train loss 6.965, Val loss 7.287\n",
            "Ep 2 (Step 000015): Train loss 6.290, Val loss 6.699\n",
            "Ep 3 (Step 000020): Train loss 6.090, Val loss 6.631\n",
            "Ep 3 (Step 000025): Train loss 5.976, Val loss 6.718\n",
            "Ep 4 (Step 000030): Train loss 5.937, Val loss 6.707\n",
            "Ep 4 (Step 000035): Train loss 5.765, Val loss 6.683\n",
            "Ep 5 (Step 000040): Train loss 5.524, Val loss 6.645\n",
            "Ep 6 (Step 000045): Train loss 5.102, Val loss 6.440\n",
            "Ep 6 (Step 000050): Train loss 4.876, Val loss 6.336\n",
            "Ep 7 (Step 000055): Train loss 4.503, Val loss 6.239\n",
            "Ep 7 (Step 000060): Train loss 4.287, Val loss 6.203\n",
            "Ep 8 (Step 000065): Train loss 3.890, Val loss 6.183\n",
            "Ep 8 (Step 000070): Train loss 3.479, Val loss 6.155\n",
            "Ep 9 (Step 000075): Train loss 3.274, Val loss 6.184\n",
            "Ep 9 (Step 000080): Train loss 3.018, Val loss 6.157\n",
            "Ep 10 (Step 000085): Train loss 2.765, Val loss 6.194\n"
          ]
        }
      ]
    },
    {
      "cell_type": "code",
      "source": [
        "!ls"
      ],
      "metadata": {
        "colab": {
          "base_uri": "https://localhost:8080/"
        },
        "id": "Q02CYu1rYVnQ",
        "outputId": "03401992-eb5a-4d4b-ac8d-13761e1ee34f"
      },
      "execution_count": 33,
      "outputs": [
        {
          "output_type": "stream",
          "name": "stdout",
          "text": [
            "attentions  datasets  model  model_and_optimizer.pth  README.md  tokenizer  train  verdict.txt\n"
          ]
        }
      ]
    },
    {
      "cell_type": "code",
      "source": [
        "from google.colab import files"
      ],
      "metadata": {
        "id": "ywkNGB1yihlv"
      },
      "execution_count": 34,
      "outputs": []
    },
    {
      "cell_type": "code",
      "source": [],
      "metadata": {
        "id": "KzM_42kwoBRu"
      },
      "execution_count": null,
      "outputs": []
    }
  ]
}